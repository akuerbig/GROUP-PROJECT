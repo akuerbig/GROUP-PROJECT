{
 "cells": [
  {
   "cell_type": "markdown",
   "id": "83beba0c-9984-4378-839e-2bc408203c73",
   "metadata": {},
   "source": [
    "## DSCI 100 Group Project - PLAICRAFT Data Study\n",
    "### Members: Justin Galimpin, Alexis Kuerbig (15606007), Arjun Sharma, Ahmad Khattab"
   ]
  },
  {
   "cell_type": "markdown",
   "id": "bd072c47-484c-44c2-aaee-71bcee5d59f1",
   "metadata": {},
   "source": [
    "**Introduction**"
   ]
  },
  {
   "cell_type": "markdown",
   "id": "002bf0fb-fc88-4cc5-8d0b-5e662d4da15b",
   "metadata": {},
   "source": [
    "**Method and Results**"
   ]
  },
  {
   "cell_type": "markdown",
   "id": "9afea149-ebbc-43e1-b970-4d8858506dfc",
   "metadata": {},
   "source": [
    "**Discussion**"
   ]
  },
  {
   "cell_type": "markdown",
   "id": "557802e4-72a7-44ef-ba75-5dd4a59aadbc",
   "metadata": {},
   "source": [
    "**References (If Any)**"
   ]
  },
  {
   "cell_type": "code",
   "execution_count": null,
   "id": "98b55c1b-4d20-4e36-a0b8-4c632d49004b",
   "metadata": {},
   "outputs": [],
   "source": []
  },
  {
   "cell_type": "code",
   "execution_count": null,
   "id": "1524d023-3d11-4ff2-9262-83520d0f6d19",
   "metadata": {},
   "outputs": [],
   "source": []
  }
 ],
 "metadata": {
  "kernelspec": {
   "display_name": "Python 3 (ipykernel)",
   "language": "python",
   "name": "python3"
  },
  "language_info": {
   "codemirror_mode": {
    "name": "ipython",
    "version": 3
   },
   "file_extension": ".py",
   "mimetype": "text/x-python",
   "name": "python",
   "nbconvert_exporter": "python",
   "pygments_lexer": "ipython3",
   "version": "3.11.9"
  }
 },
 "nbformat": 4,
 "nbformat_minor": 5
}
