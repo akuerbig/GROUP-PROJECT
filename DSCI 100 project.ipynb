{
 "cells": [
  {
   "cell_type": "markdown",
   "id": "83beba0c-9984-4378-839e-2bc408203c73",
   "metadata": {},
   "source": [
    "## DSCI 100 Group Project - PLAICRAFT Data Study\n",
    "### Members: Justin Galimpin (59053306), Alexis Kuerbig (15606007), Arjun Sharma, Ahmad Khattab"
   ]
  },
  {
   "cell_type": "markdown",
   "id": "bd072c47-484c-44c2-aaee-71bcee5d59f1",
   "metadata": {},
   "source": [
    "**Introduction**"
   ]
  },
  {
   "cell_type": "code",
   "execution_count": 2,
   "id": "09943bb0-08d8-4ef3-8da4-63e499a83820",
   "metadata": {},
   "outputs": [],
   "source": [
    "import pandas as pd\n",
    "import altair as alt"
   ]
  },
  {
   "cell_type": "markdown",
   "id": "002bf0fb-fc88-4cc5-8d0b-5e662d4da15b",
   "metadata": {},
   "source": [
    "**Method and Results**"
   ]
  },
  {
   "cell_type": "code",
   "execution_count": 6,
   "id": "c35173c5-94d4-4ba3-8d17-24c0275e0e8a",
   "metadata": {},
   "outputs": [
    {
     "data": {
      "text/html": [
       "<div>\n",
       "<style scoped>\n",
       "    .dataframe tbody tr th:only-of-type {\n",
       "        vertical-align: middle;\n",
       "    }\n",
       "\n",
       "    .dataframe tbody tr th {\n",
       "        vertical-align: top;\n",
       "    }\n",
       "\n",
       "    .dataframe thead th {\n",
       "        text-align: right;\n",
       "    }\n",
       "</style>\n",
       "<table border=\"1\" class=\"dataframe\">\n",
       "  <thead>\n",
       "    <tr style=\"text-align: right;\">\n",
       "      <th></th>\n",
       "      <th>hashedEmail</th>\n",
       "      <th>start_time</th>\n",
       "      <th>end_time</th>\n",
       "      <th>original_start_time</th>\n",
       "      <th>original_end_time</th>\n",
       "    </tr>\n",
       "  </thead>\n",
       "  <tbody>\n",
       "    <tr>\n",
       "      <th>0</th>\n",
       "      <td>bfce39c89d6549f2bb94d8064d3ce69dc3d7e72b38f431...</td>\n",
       "      <td>30/06/2024 18:12</td>\n",
       "      <td>30/06/2024 18:24</td>\n",
       "      <td>1.719770e+12</td>\n",
       "      <td>1.719770e+12</td>\n",
       "    </tr>\n",
       "    <tr>\n",
       "      <th>1</th>\n",
       "      <td>36d9cbb4c6bc0c1a6911436d2da0d09ec625e43e6552f5...</td>\n",
       "      <td>17/06/2024 23:33</td>\n",
       "      <td>17/06/2024 23:46</td>\n",
       "      <td>1.718670e+12</td>\n",
       "      <td>1.718670e+12</td>\n",
       "    </tr>\n",
       "    <tr>\n",
       "      <th>2</th>\n",
       "      <td>f8f5477f5a2e53616ae37421b1c660b971192bd8ff77e3...</td>\n",
       "      <td>25/07/2024 17:34</td>\n",
       "      <td>25/07/2024 17:57</td>\n",
       "      <td>1.721930e+12</td>\n",
       "      <td>1.721930e+12</td>\n",
       "    </tr>\n",
       "    <tr>\n",
       "      <th>3</th>\n",
       "      <td>bfce39c89d6549f2bb94d8064d3ce69dc3d7e72b38f431...</td>\n",
       "      <td>25/07/2024 03:22</td>\n",
       "      <td>25/07/2024 03:58</td>\n",
       "      <td>1.721880e+12</td>\n",
       "      <td>1.721880e+12</td>\n",
       "    </tr>\n",
       "    <tr>\n",
       "      <th>4</th>\n",
       "      <td>36d9cbb4c6bc0c1a6911436d2da0d09ec625e43e6552f5...</td>\n",
       "      <td>25/05/2024 16:01</td>\n",
       "      <td>25/05/2024 16:12</td>\n",
       "      <td>1.716650e+12</td>\n",
       "      <td>1.716650e+12</td>\n",
       "    </tr>\n",
       "    <tr>\n",
       "      <th>...</th>\n",
       "      <td>...</td>\n",
       "      <td>...</td>\n",
       "      <td>...</td>\n",
       "      <td>...</td>\n",
       "      <td>...</td>\n",
       "    </tr>\n",
       "    <tr>\n",
       "      <th>1530</th>\n",
       "      <td>36d9cbb4c6bc0c1a6911436d2da0d09ec625e43e6552f5...</td>\n",
       "      <td>10/05/2024 23:01</td>\n",
       "      <td>10/05/2024 23:07</td>\n",
       "      <td>1.715380e+12</td>\n",
       "      <td>1.715380e+12</td>\n",
       "    </tr>\n",
       "    <tr>\n",
       "      <th>1531</th>\n",
       "      <td>7a4686586d290c67179275c7c3dfb4ea02f4d317d9ee0e...</td>\n",
       "      <td>01/07/2024 04:08</td>\n",
       "      <td>01/07/2024 04:19</td>\n",
       "      <td>1.719810e+12</td>\n",
       "      <td>1.719810e+12</td>\n",
       "    </tr>\n",
       "    <tr>\n",
       "      <th>1532</th>\n",
       "      <td>fd6563a4e0f6f4273580e5fedbd8dda64990447aea5a33...</td>\n",
       "      <td>28/07/2024 15:36</td>\n",
       "      <td>28/07/2024 15:57</td>\n",
       "      <td>1.722180e+12</td>\n",
       "      <td>1.722180e+12</td>\n",
       "    </tr>\n",
       "    <tr>\n",
       "      <th>1533</th>\n",
       "      <td>fd6563a4e0f6f4273580e5fedbd8dda64990447aea5a33...</td>\n",
       "      <td>25/07/2024 06:15</td>\n",
       "      <td>25/07/2024 06:22</td>\n",
       "      <td>1.721890e+12</td>\n",
       "      <td>1.721890e+12</td>\n",
       "    </tr>\n",
       "    <tr>\n",
       "      <th>1534</th>\n",
       "      <td>36d9cbb4c6bc0c1a6911436d2da0d09ec625e43e6552f5...</td>\n",
       "      <td>20/05/2024 02:26</td>\n",
       "      <td>20/05/2024 02:45</td>\n",
       "      <td>1.716170e+12</td>\n",
       "      <td>1.716170e+12</td>\n",
       "    </tr>\n",
       "  </tbody>\n",
       "</table>\n",
       "<p>1535 rows × 5 columns</p>\n",
       "</div>"
      ],
      "text/plain": [
       "                                            hashedEmail        start_time  \\\n",
       "0     bfce39c89d6549f2bb94d8064d3ce69dc3d7e72b38f431...  30/06/2024 18:12   \n",
       "1     36d9cbb4c6bc0c1a6911436d2da0d09ec625e43e6552f5...  17/06/2024 23:33   \n",
       "2     f8f5477f5a2e53616ae37421b1c660b971192bd8ff77e3...  25/07/2024 17:34   \n",
       "3     bfce39c89d6549f2bb94d8064d3ce69dc3d7e72b38f431...  25/07/2024 03:22   \n",
       "4     36d9cbb4c6bc0c1a6911436d2da0d09ec625e43e6552f5...  25/05/2024 16:01   \n",
       "...                                                 ...               ...   \n",
       "1530  36d9cbb4c6bc0c1a6911436d2da0d09ec625e43e6552f5...  10/05/2024 23:01   \n",
       "1531  7a4686586d290c67179275c7c3dfb4ea02f4d317d9ee0e...  01/07/2024 04:08   \n",
       "1532  fd6563a4e0f6f4273580e5fedbd8dda64990447aea5a33...  28/07/2024 15:36   \n",
       "1533  fd6563a4e0f6f4273580e5fedbd8dda64990447aea5a33...  25/07/2024 06:15   \n",
       "1534  36d9cbb4c6bc0c1a6911436d2da0d09ec625e43e6552f5...  20/05/2024 02:26   \n",
       "\n",
       "              end_time  original_start_time  original_end_time  \n",
       "0     30/06/2024 18:24         1.719770e+12       1.719770e+12  \n",
       "1     17/06/2024 23:46         1.718670e+12       1.718670e+12  \n",
       "2     25/07/2024 17:57         1.721930e+12       1.721930e+12  \n",
       "3     25/07/2024 03:58         1.721880e+12       1.721880e+12  \n",
       "4     25/05/2024 16:12         1.716650e+12       1.716650e+12  \n",
       "...                ...                  ...                ...  \n",
       "1530  10/05/2024 23:07         1.715380e+12       1.715380e+12  \n",
       "1531  01/07/2024 04:19         1.719810e+12       1.719810e+12  \n",
       "1532  28/07/2024 15:57         1.722180e+12       1.722180e+12  \n",
       "1533  25/07/2024 06:22         1.721890e+12       1.721890e+12  \n",
       "1534  20/05/2024 02:45         1.716170e+12       1.716170e+12  \n",
       "\n",
       "[1535 rows x 5 columns]"
      ]
     },
     "execution_count": 6,
     "metadata": {},
     "output_type": "execute_result"
    }
   ],
   "source": [
    "players = pd.read_csv(\"players.csv\")\n",
    "players\n",
    "\n",
    "sessions = pd.read_csv(\"sessions.csv\")\n",
    "sessions"
   ]
  },
  {
   "cell_type": "markdown",
   "id": "9afea149-ebbc-43e1-b970-4d8858506dfc",
   "metadata": {},
   "source": [
    "**Discussion**"
   ]
  },
  {
   "cell_type": "markdown",
   "id": "557802e4-72a7-44ef-ba75-5dd4a59aadbc",
   "metadata": {},
   "source": [
    "**References (If Any)**"
   ]
  },
  {
   "cell_type": "code",
   "execution_count": null,
   "id": "98b55c1b-4d20-4e36-a0b8-4c632d49004b",
   "metadata": {},
   "outputs": [],
   "source": []
  },
  {
   "cell_type": "code",
   "execution_count": null,
   "id": "1524d023-3d11-4ff2-9262-83520d0f6d19",
   "metadata": {},
   "outputs": [],
   "source": []
  }
 ],
 "metadata": {
  "kernelspec": {
   "display_name": "Python 3 (ipykernel)",
   "language": "python",
   "name": "python3"
  },
  "language_info": {
   "codemirror_mode": {
    "name": "ipython",
    "version": 3
   },
   "file_extension": ".py",
   "mimetype": "text/x-python",
   "name": "python",
   "nbconvert_exporter": "python",
   "pygments_lexer": "ipython3",
   "version": "3.11.9"
  }
 },
 "nbformat": 4,
 "nbformat_minor": 5
}
