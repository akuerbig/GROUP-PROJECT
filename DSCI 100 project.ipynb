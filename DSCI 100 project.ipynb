{
 "cells": [
  {
   "cell_type": "markdown",
   "id": "83beba0c-9984-4378-839e-2bc408203c73",
   "metadata": {},
   "source": [
    "## DSCI 100 Group Project - PLAICRAFT Data Study\n",
    "### Members: Justin Galimpin (59053306), Alexis Kuerbig (15606007), Arjun Sharma (61155750), Ahmad Khattab"
   ]
  },
  {
   "cell_type": "markdown",
   "id": "bd072c47-484c-44c2-aaee-71bcee5d59f1",
   "metadata": {},
   "source": [
    "**Introduction**\n",
    "\n",
    "The `players.csv` dataset contains all the individuals who have taken part in the **(PLAI)** research study, which aims to collect data about how people play video games. There are 196 observations within the dataset, and the variables for the given dataset are as follows:\n",
    "\n",
    "* `experience`: How a given player rates/describes their experience level\n",
    "* `subscribe`: Uncertain\n",
    "* `hashedEmail`: Player Email\n",
    "* `played_hours`: Total Hours Played\n",
    "* `name`\n",
    "* `gender`\n",
    "* `age`\n",
    "* `individualId`: Unique Player ID (left NaN)\n",
    "* `organizationName`: Player Organization (left NaN)\n",
    "  \n",
    "**Our Question: Can we predict the total hours a player will partake in the study based on their age and/or their experience level?**\n",
    "\n",
    "**Response Variable:** `played_hours`\n",
    "**Predictor Variables:** `experience` `age`\n",
    "\n",
    "Answering this question will give the research group a clear idea of what type of demographic may be able to contribute the most to their study. For example, the results of the question may find a player with X type of experience contributes far more than those with Y type of experience, or that a player with Z type of experience actually rarely contributes at all. The key variables to help us answer this question are `age`, `experience`, and `played_hours` in `players.csv`. "
   ]
  },
  {
   "cell_type": "code",
   "execution_count": 1,
   "id": "09943bb0-08d8-4ef3-8da4-63e499a83820",
   "metadata": {},
   "outputs": [],
   "source": [
    "import pandas as pd\n",
    "import altair as alt\n",
    "import numpy as np\n",
    "from sklearn import set_config\n",
    "from sklearn.model_selection import GridSearchCV, cross_validate, train_test_split\n",
    "from sklearn.neighbors import KNeighborsRegressor\n",
    "from sklearn.pipeline import make_pipeline\n",
    "from sklearn.preprocessing import StandardScaler\n",
    "from sklearn.metrics import mean_squared_error\n",
    "from sklearn.linear_model import LinearRegression\n",
    "from sklearn.model_selection import train_test_split\n",
    "from sklearn.metrics import mean_squared_error"
   ]
  },
  {
   "cell_type": "markdown",
   "id": "002bf0fb-fc88-4cc5-8d0b-5e662d4da15b",
   "metadata": {},
   "source": [
    "**Method and Results**"
   ]
  },
  {
   "cell_type": "code",
   "execution_count": 2,
   "id": "c35173c5-94d4-4ba3-8d17-24c0275e0e8a",
   "metadata": {},
   "outputs": [],
   "source": [
    "players = pd.read_csv(\"players.csv\")\n",
    "sessions = pd.read_csv(\"sessions.csv\")"
   ]
  },
  {
   "cell_type": "code",
   "execution_count": 3,
   "id": "308c29e7-e9d1-4699-9a15-89f4948e96be",
   "metadata": {},
   "outputs": [
    {
     "name": "stderr",
     "output_type": "stream",
     "text": [
      "/tmp/ipykernel_8326/633565120.py:1: FutureWarning: Downcasting behavior in `replace` is deprecated and will be removed in a future version. To retain the old behavior, explicitly call `result.infer_objects(copy=False)`. To opt-in to the future behavior, set `pd.set_option('future.no_silent_downcasting', True)`\n",
      "  players[\"experience\"] = players[\"experience\"].replace({\n",
      "/opt/conda/lib/python3.11/site-packages/numpy/ma/core.py:2846: RuntimeWarning: invalid value encountered in cast\n",
      "  _data = np.array(data, dtype=dtype, copy=copy,\n"
     ]
    },
    {
     "data": {
      "text/plain": [
       "np.float64(25.362170401998327)"
      ]
     },
     "execution_count": 3,
     "metadata": {},
     "output_type": "execute_result"
    }
   ],
   "source": [
    "players[\"experience\"] = players[\"experience\"].replace({\n",
    "    \"Beginner\" : 1.0,\n",
    "    \"Amateur\" : 2.0,\n",
    "    \"Regular\" : 3.0,\n",
    "    \"Veteran\" : 4.0,\n",
    "    \"Pro\" : 5.0\n",
    "})\n",
    "\n",
    "players_training, players_testing = train_test_split(\n",
    "    players,\n",
    "    test_size=0.20,\n",
    "    random_state=2000,\n",
    ")\n",
    "X_train = players_training[[\"experience\",\"age\"]]\n",
    "y_train = players_training[\"played_hours\"]\n",
    "\n",
    "X_test = players_testing[[\"experience\",\"age\"]]\n",
    "y_test = players_testing[\"played_hours\"]\n",
    "\n",
    "players_pipe = make_pipeline(\n",
    "    StandardScaler(),\n",
    "    KNeighborsRegressor()\n",
    ")\n",
    "\n",
    "players_cv = pd.DataFrame(\n",
    "    cross_validate(\n",
    "        players_pipe,\n",
    "        X_train,\n",
    "        y_train,\n",
    "        scoring=\"neg_root_mean_squared_error\",\n",
    "        return_train_score=True,\n",
    "        cv=5\n",
    "    )\n",
    ")\n",
    "players_cv\n",
    "\n",
    "np.random.seed(101)\n",
    "param_grid = {'kneighborsregressor__n_neighbors': range(1, 100, 1)}\n",
    "players_tuned = GridSearchCV(players_pipe, param_grid, cv=5, n_jobs=-1, scoring=\"neg_root_mean_squared_error\")\n",
    "players_results = pd.DataFrame(players_tuned.fit(X_train, y_train).cv_results_)\n",
    "players_results\n",
    "\n",
    "players_min = players_tuned.best_params_\n",
    "playersbest_RMSPE = -players_tuned.best_score_\n",
    "\n",
    "players_min\n",
    "playersbest_RMSPE\n",
    "\n",
    "np.random.seed(1234)\n",
    "players_prediction = players_tuned.predict(X_test)\n",
    "players_summary = mean_squared_error(y_test, players_prediction)**(1/2)\n",
    "\n",
    "players_prediction\n",
    "players_summary"
   ]
  },
  {
   "cell_type": "markdown",
   "id": "9afea149-ebbc-43e1-b970-4d8858506dfc",
   "metadata": {},
   "source": [
    "**Discussion**"
   ]
  },
  {
   "cell_type": "markdown",
   "id": "557802e4-72a7-44ef-ba75-5dd4a59aadbc",
   "metadata": {},
   "source": [
    "**References (If Any)**"
   ]
  },
  {
   "cell_type": "code",
   "execution_count": null,
   "id": "98b55c1b-4d20-4e36-a0b8-4c632d49004b",
   "metadata": {},
   "outputs": [],
   "source": []
  },
  {
   "cell_type": "code",
   "execution_count": null,
   "id": "1524d023-3d11-4ff2-9262-83520d0f6d19",
   "metadata": {},
   "outputs": [],
   "source": []
  }
 ],
 "metadata": {
  "kernelspec": {
   "display_name": "Python 3 (ipykernel)",
   "language": "python",
   "name": "python3"
  },
  "language_info": {
   "codemirror_mode": {
    "name": "ipython",
    "version": 3
   },
   "file_extension": ".py",
   "mimetype": "text/x-python",
   "name": "python",
   "nbconvert_exporter": "python",
   "pygments_lexer": "ipython3",
   "version": "3.11.9"
  }
 },
 "nbformat": 4,
 "nbformat_minor": 5
}
